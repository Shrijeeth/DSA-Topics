{
 "cells": [
  {
   "cell_type": "markdown",
   "metadata": {},
   "source": [
    "# Stacks Tutorial"
   ]
  },
  {
   "cell_type": "markdown",
   "metadata": {},
   "source": [
    "## What is a Stack?"
   ]
  },
  {
   "cell_type": "markdown",
   "metadata": {},
   "source": [
    "A stack is a linear data structure that follows the Last-In-First-Out (LIFO) principle. The last element added to the stack is the first one to be removed."
   ]
  },
  {
   "cell_type": "markdown",
   "metadata": {},
   "source": [
    "## Stack Operations"
   ]
  },
  {
   "cell_type": "markdown",
   "metadata": {},
   "source": [
    "- **Push**: Add an element to the top of the stack.\n",
    "- **Pop**: Remove and return the top element from the stack.\n",
    "- **Peek/Top**: View the top element without removing it.\n",
    "- **isEmpty**: Check if the stack is empty."
   ]
  },
  {
   "cell_type": "markdown",
   "metadata": {},
   "source": [
    "## Applications of Stacks"
   ]
  },
  {
   "cell_type": "markdown",
   "metadata": {},
   "source": [
    "- Function call management (call stack)\n",
    "- Undo/Redo operations in editors\n",
    "- Expression evaluation and syntax parsing\n",
    "- Backtracking algorithms (e.g., maze, DFS)"
   ]
  },
  {
   "cell_type": "code",
   "execution_count": null,
   "metadata": {},
   "outputs": [],
   "source": [
    "# Example (Python)\n",
    "stack = []\n",
    "stack.append(10)  # Push\n",
    "stack.append(20)\n",
    "print(stack[-1])  # Peek (prints 20)\n",
    "print(stack.pop())  # Pop (prints 20)\n",
    "print(stack.pop())  # Pop (prints 10)\n",
    "print(len(stack) == 0)  # isEmpty (prints True)"
   ]
  },
  {
   "cell_type": "markdown",
   "metadata": {},
   "source": [
    "## Common Stack Problems\n",
    "- Valid Parentheses\n",
    "- Evaluate Reverse Polish Notation\n",
    "- Min Stack\n",
    "- Next Greater Element"
   ]
  }
 ],
 "metadata": {
  "kernelspec": {
   "display_name": "Python 3",
   "language": "python",
   "name": "python3"
  },
  "language_info": {
   "name": "python",
   "version": "3.x"
  }
 },
 "nbformat": 4,
 "nbformat_minor": 2
}
