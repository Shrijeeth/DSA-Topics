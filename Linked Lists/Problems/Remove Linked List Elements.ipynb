{
 "cells": [
  {
   "cell_type": "markdown",
   "metadata": {},
   "source": [
    "# Remove Linked List Elements"
   ]
  },
  {
   "cell_type": "markdown",
   "metadata": {},
   "source": [
    "Given the `head` of a linked list and an integer `val`, remove all the nodes of the linked list that has `Node.val == val`, and return the new head."
   ]
  },
  {
   "cell_type": "markdown",
   "metadata": {},
   "source": [
    "## Examples"
   ]
  },
  {
   "cell_type": "markdown",
   "metadata": {},
   "source": [
    "### Example-1"
   ]
  },
  {
   "cell_type": "markdown",
   "metadata": {},
   "source": [
    "![image.jpg](https://assets.leetcode.com/uploads/2021/03/06/removelinked-list.jpg)\n",
    "\n",
    "```txt\n",
    "Input: head = [1,2,6,3,4,5,6], val = 6\n",
    "Output: [1,2,3,4,5]\n",
    "```"
   ]
  },
  {
   "cell_type": "markdown",
   "metadata": {},
   "source": [
    "### Example-2"
   ]
  },
  {
   "cell_type": "markdown",
   "metadata": {},
   "source": [
    "```txt\n",
    "Input: head = [], val = 1\n",
    "Output: []\n",
    "```"
   ]
  },
  {
   "cell_type": "markdown",
   "metadata": {},
   "source": [
    "### Example-3"
   ]
  },
  {
   "cell_type": "markdown",
   "metadata": {},
   "source": [
    "```txt\n",
    "Input: head = [7,7,7,7], val = 7\n",
    "Output: []\n",
    "```"
   ]
  },
  {
   "cell_type": "markdown",
   "metadata": {},
   "source": [
    "## Constraints"
   ]
  },
  {
   "cell_type": "markdown",
   "metadata": {},
   "source": [
    "- The number of nodes in the list is in the range `[0, 104]`.\n",
    "- `1 <= Node.val <= 50`\n",
    "- `0 <= val <= 50`"
   ]
  },
  {
   "cell_type": "markdown",
   "metadata": {},
   "source": [
    "## Solution"
   ]
  },
  {
   "cell_type": "markdown",
   "metadata": {},
   "source": [
    "In this problem, we are given a linked list and an integer value. We need to remove all nodes from the list whose value equals the given integer. The linked list is defined by a class `ListNode` with a value and a pointer to the next node."
   ]
  },
  {
   "cell_type": "markdown",
   "metadata": {},
   "source": [
    "### Approach\n",
    "\n",
    "1. Intuition\n",
    "When removing elements from a linked list, you want to skip over any node whose value matches the target. To handle cases where the head itself needs to be removed, a dummy node is used before the head. You traverse the list, and for each node, if its value matches the target, you unlink it from the list.\n",
    "\n",
    "2. Pointers Used\n",
    "    - temp: A new node placed before the head to simplify edge cases.\n",
    "    - current: Points to the node that is being checked (starts at head).\n",
    "    - previous: Points to the node just before the one being checked (starts at temp).\n",
    "\n",
    "3. Step-by-Step Process\n",
    "    - Initialize temp and current pointers.\n",
    "    - Iterate through the list:\n",
    "        - If current node's value matches target, unlink it by updating previous.next to current.next.\n",
    "        - Otherwise, move both pointers forward.\n",
    "    - Return the modified list starting from temp.next.\n",
    "\n",
    "4. Visualization\n",
    "    - Suppose your list is: `1 -> 2 -> 6 -> 3 -> 4 -> 5 -> 6 -> None` And `val = 6`\n",
    "    - Add a dummy node (temp) before the head: `temp -> 1 -> 2 -> 6 -> 3 -> 4 -> 5 -> 6 -> None`\n",
    "    - Set `previous = temp` and `current = head` (which is 1).\n",
    "    - Now, iterate through the list:\n",
    "      - `current = 1` (not 6)\n",
    "        - Move `previous` to `current` (now at 1)\n",
    "        - Move `current` to `current.next` (now at 2)\n",
    "      - `current = 2` (not 6)\n",
    "        - Move `previous` to `current` (now at 2)\n",
    "        - Move `current` to `current.next` (now at 6)\n",
    "      - `current = 6` (is 6)\n",
    "        - Unlink `current` from the list by updating `previous.next` to `current.next` (so 2 now points to 3)\n",
    "        - Move `current` to `current.next` (now at 3)\n",
    "        - `previous` remains at 2\n",
    "      - `current = 3` (not 6)\n",
    "        - Move `previous` to `current` (now at 3)\n",
    "        - Move `current` to `current.next` (now at 4)\n",
    "      - `current = 4` (not 6)\n",
    "        - Move `previous` to `current` (now at 4)\n",
    "        - Move `current` to `current.next` (now at 5)\n",
    "      - `current = 5` (not 6)\n",
    "        - Move `previous` to `current` (now at 5)\n",
    "        - Move `current` to `current.next` (now at 6)\n",
    "      - `current = 6` (is 6)\n",
    "        - Unlink `current` from the list by updating `previous.next` to `current.next` (so 5 now points to None)\n",
    "        - Move `current` to `current.next` (now at None)\n",
    "        - `previous` remains at 5\n",
    "      - `current = None` (end of list)\n",
    "        - Exit the loop\n",
    "    - The final list now is: `1 -> 2 -> 3 -> 4 -> 5 -> None`\n",
    "    - Return the modified list starting from `temp.next`"
   ]
  },
  {
   "cell_type": "code",
   "execution_count": 4,
   "metadata": {},
   "outputs": [],
   "source": [
    "class ListNode(object):\n",
    "    def __init__(self, val=0, next=None):\n",
    "        self.val = val\n",
    "        self.next = next\n",
    "\n",
    "\n",
    "def ll_to_list(head):\n",
    "    result = []\n",
    "    current = head\n",
    "    while current:\n",
    "        result.append(current.val)\n",
    "        current = current.next\n",
    "    return result\n",
    "\n",
    "\n",
    "def list_to_ll(arr):\n",
    "    if not arr:\n",
    "        return None\n",
    "    head = ListNode(arr[0])\n",
    "    current = head\n",
    "    for val in arr[1:]:\n",
    "        current.next = ListNode(val)\n",
    "        current = current.next\n",
    "    return head\n",
    "\n",
    "\n",
    "def remove_elements(head, val):\n",
    "    temp = ListNode(0)\n",
    "    temp.next = head\n",
    "    previous, current = temp, head\n",
    "    while current:\n",
    "        if current.val == val:\n",
    "            previous.next = current.next\n",
    "        else:\n",
    "            previous = current\n",
    "        current = current.next\n",
    "    return temp.next"
   ]
  },
  {
   "cell_type": "markdown",
   "metadata": {},
   "source": [
    "## Test Cases"
   ]
  },
  {
   "cell_type": "markdown",
   "metadata": {},
   "source": [
    "### Test Case 1"
   ]
  },
  {
   "cell_type": "code",
   "execution_count": 6,
   "metadata": {},
   "outputs": [],
   "source": [
    "ll = list_to_ll([1, 2, 6, 3, 4, 5, 6])\n",
    "assert ll_to_list(ll) == [1, 2, 6, 3, 4, 5, 6]\n",
    "\n",
    "ll = remove_elements(ll, 6)\n",
    "assert ll_to_list(ll) == [1, 2, 3, 4, 5]\n"
   ]
  },
  {
   "cell_type": "markdown",
   "metadata": {},
   "source": [
    "### Test Case 2"
   ]
  },
  {
   "cell_type": "code",
   "execution_count": 9,
   "metadata": {},
   "outputs": [],
   "source": [
    "ll = list_to_ll([])\n",
    "assert ll_to_list(ll) == []\n",
    "\n",
    "ll = remove_elements(ll, 3)\n",
    "assert ll_to_list(ll) == []"
   ]
  },
  {
   "cell_type": "markdown",
   "metadata": {},
   "source": [
    "### Test Case 3"
   ]
  },
  {
   "cell_type": "code",
   "execution_count": 10,
   "metadata": {},
   "outputs": [],
   "source": [
    "ll = list_to_ll([5, 5, 5, 5])\n",
    "assert ll_to_list(ll) == [5, 5, 5, 5]\n",
    "\n",
    "ll = remove_elements(ll, 5)\n",
    "assert ll_to_list(ll) == []"
   ]
  }
 ],
 "metadata": {
  "kernelspec": {
   "display_name": "base",
   "language": "python",
   "name": "python3"
  },
  "language_info": {
   "codemirror_mode": {
    "name": "ipython",
    "version": 3
   },
   "file_extension": ".py",
   "mimetype": "text/x-python",
   "name": "python",
   "nbconvert_exporter": "python",
   "pygments_lexer": "ipython3",
   "version": "3.12.9"
  }
 },
 "nbformat": 4,
 "nbformat_minor": 2
}
