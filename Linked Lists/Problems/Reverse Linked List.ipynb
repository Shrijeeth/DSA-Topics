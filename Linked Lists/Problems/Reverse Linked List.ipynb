{
 "cells": [
  {
   "cell_type": "markdown",
   "metadata": {},
   "source": [
    "# Reverse Linked List"
   ]
  },
  {
   "cell_type": "markdown",
   "metadata": {},
   "source": [
    "Given the `head` of a singly linked list, reverse the list, and return the reversed list."
   ]
  },
  {
   "cell_type": "markdown",
   "metadata": {},
   "source": [
    "## Examples"
   ]
  },
  {
   "cell_type": "markdown",
   "metadata": {},
   "source": [
    "### Example-1"
   ]
  },
  {
   "cell_type": "markdown",
   "metadata": {},
   "source": [
    "![image.png](https://assets.leetcode.com/uploads/2021/02/19/rev1ex1.jpg)"
   ]
  },
  {
   "cell_type": "markdown",
   "metadata": {},
   "source": [
    "```txt\n",
    "Input: head = [1,2,3,4,5]\n",
    "Output: [5,4,3,2,1]\n",
    "```"
   ]
  },
  {
   "cell_type": "markdown",
   "metadata": {},
   "source": [
    "### Example-2"
   ]
  },
  {
   "cell_type": "markdown",
   "metadata": {},
   "source": [
    "![image.png](https://assets.leetcode.com/uploads/2021/02/19/rev1ex2.jpg)"
   ]
  },
  {
   "cell_type": "markdown",
   "metadata": {},
   "source": [
    "```txt\n",
    "Input: head = [1,2]\n",
    "Output: [2,1]\n",
    "```"
   ]
  },
  {
   "cell_type": "markdown",
   "metadata": {},
   "source": [
    "### Example-3"
   ]
  },
  {
   "cell_type": "markdown",
   "metadata": {},
   "source": [
    "```txt\n",
    "Input: head = []\n",
    "Output: []\n",
    "```"
   ]
  },
  {
   "cell_type": "markdown",
   "metadata": {},
   "source": [
    "## Constraints:"
   ]
  },
  {
   "cell_type": "markdown",
   "metadata": {},
   "source": [
    "- The number of nodes in the list is the range [0, 5000].\n",
    "- -5000 <= Node.val <= 5000"
   ]
  },
  {
   "cell_type": "markdown",
   "metadata": {},
   "source": [
    "Follow up: A linked list can be reversed either iteratively or recursively. Could you implement both?"
   ]
  },
  {
   "cell_type": "markdown",
   "metadata": {},
   "source": [
    "## Solution"
   ]
  },
  {
   "cell_type": "markdown",
   "metadata": {},
   "source": [
    "In this problem, we are given a linked list and we need to reverse it. The linked list is defined by a class `ListNode` with a value and a pointer to the next node."
   ]
  },
  {
   "cell_type": "markdown",
   "metadata": {},
   "source": [
    "### Approach\n",
    "\n",
    "1. Intuition\n",
    "When reversing a linked list, you want every node’s next pointer to point to its previous node, instead of the next one. You need to traverse the list and, for each node, reverse its pointer.\n",
    "\n",
    "2. Pointers Used\n",
    "    - prev: Points to the previous node (initially None).\n",
    "    - curr: Points to the current node being processed (starts at head).\n",
    "    - next_node: Temporarily stores the next node (so you don't lose the rest of the list when you change pointers).\n",
    "\n",
    "3. Step-by-Step Process\n",
    "    1. Initialize prev as None and curr as head.\n",
    "    2. While curr is not None:\n",
    "        - Store curr.next in next_node.\n",
    "        - Set curr.next to prev (reverse the pointer).\n",
    "        - Move prev to curr.\n",
    "        - Move curr to next_node.\n",
    "    3. When the loop ends, prev will be the new head of the reversed list.\n",
    "\n",
    "4. Visualization\n",
    "    - Suppose your list is:\n",
    "    1 -> 2 -> 3 -> 4 -> 5 -> None\n",
    "\n",
    "    - After the first iteration:\n",
    "    1 <- 2 -> 3 -> 4 -> 5 -> None\n",
    "    Now: prev = 1, curr = 2\n",
    "\n",
    "    - After the second iteration:\n",
    "    1 <- 2 <- 3 -> 4 -> 5 -> None\n",
    "    And so on, until the entire list is reversed."
   ]
  },
  {
   "cell_type": "code",
   "execution_count": 5,
   "metadata": {},
   "outputs": [],
   "source": [
    "class ListNode(object):\n",
    "    def __init__(self, val=0, next=None):\n",
    "        self.val = val\n",
    "        self.next = next\n",
    "\n",
    "\n",
    "def reverse_linked_list(head):\n",
    "    prev = None\n",
    "    current = head\n",
    "    while current:\n",
    "        next_node = current.next\n",
    "        current.next = prev\n",
    "        prev = current\n",
    "        current = next_node\n",
    "    return prev\n",
    "\n",
    "def ll_to_list(head):\n",
    "    result = []\n",
    "    current = head\n",
    "    while current:\n",
    "        result.append(current.val)\n",
    "        current = current.next\n",
    "    return result"
   ]
  },
  {
   "cell_type": "markdown",
   "metadata": {},
   "source": [
    "## Test Cases"
   ]
  },
  {
   "cell_type": "markdown",
   "metadata": {},
   "source": [
    "### Test Case 1"
   ]
  },
  {
   "cell_type": "code",
   "execution_count": 10,
   "metadata": {},
   "outputs": [],
   "source": [
    "ll = ListNode(1, ListNode(2, ListNode(3, ListNode(4, ListNode(5)))))\n",
    "assert ll_to_list(ll) == [1, 2, 3, 4, 5]\n",
    "rll = reverse_linked_list(ll)\n",
    "assert ll_to_list(rll) == [5, 4, 3, 2, 1]"
   ]
  },
  {
   "cell_type": "markdown",
   "metadata": {},
   "source": [
    "### Test Case 2"
   ]
  },
  {
   "cell_type": "code",
   "execution_count": 11,
   "metadata": {},
   "outputs": [],
   "source": [
    "ll = ListNode(1, None)\n",
    "assert ll_to_list(ll) == [1]\n",
    "rll = reverse_linked_list(ll)\n",
    "assert ll_to_list(rll) == [1]"
   ]
  },
  {
   "cell_type": "markdown",
   "metadata": {},
   "source": [
    "### Test Case 3"
   ]
  },
  {
   "cell_type": "code",
   "execution_count": 12,
   "metadata": {},
   "outputs": [],
   "source": [
    "ll = ListNode(1, ListNode(2, None))\n",
    "rll = reverse_linked_list(ll)\n",
    "assert ll_to_list(rll) == [2, 1]"
   ]
  }
 ],
 "metadata": {
  "kernelspec": {
   "display_name": "base",
   "language": "python",
   "name": "python3"
  },
  "language_info": {
   "codemirror_mode": {
    "name": "ipython",
    "version": 3
   },
   "file_extension": ".py",
   "mimetype": "text/x-python",
   "name": "python",
   "nbconvert_exporter": "python",
   "pygments_lexer": "ipython3",
   "version": "3.12.9"
  }
 },
 "nbformat": 4,
 "nbformat_minor": 2
}
