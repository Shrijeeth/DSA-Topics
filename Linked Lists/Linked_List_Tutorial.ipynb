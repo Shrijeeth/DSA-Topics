{
 "cells": [
  {
   "cell_type": "markdown",
   "metadata": {},
   "source": [
    "# Linked Lists in Python"
   ]
  },
  {
   "cell_type": "markdown",
   "metadata": {},
   "source": [
    "This tutorial provides a detailed introduction to linked lists in Python. We'll cover the following topics:\n",
    "\n",
    "- What is a Linked List?\n",
    "- Types of Linked Lists\n",
    "- Singly Linked List\n",
    "- Doubly Linked List\n",
    "- Circular Linked List\n",
    "- Famous Linked List Practice Problems"
   ]
  },
  {
   "cell_type": "markdown",
   "metadata": {},
   "source": [
    "## What is a Linked List?"
   ]
  },
  {
   "cell_type": "markdown",
   "metadata": {},
   "source": [
    "A **linked list** is a linear data structure where elements (nodes) are linked using pointers. Unlike arrays, linked lists do not require contiguous memory. Each node contains data and a reference (pointer) to the next node in the sequence."
   ]
  },
  {
   "cell_type": "markdown",
   "metadata": {},
   "source": [
    "## Types of Linked Lists"
   ]
  },
  {
   "cell_type": "markdown",
   "metadata": {},
   "source": [
    "- **Singly Linked List**: Each node points to the next node.\n",
    "- **Doubly Linked List**: Each node points to both the next and previous nodes.\n",
    "- **Circular Linked List**: The last node points back to the first node."
   ]
  },
  {
   "cell_type": "markdown",
   "metadata": {},
   "source": [
    "## Singly Linked List"
   ]
  },
  {
   "cell_type": "markdown",
   "metadata": {},
   "source": [
    "A **singly linked list** is a type of linked list where each node contains data and a reference (pointer) to the next node in the sequence. The last node points to `None`. This structure allows for efficient insertion and deletion at the beginning of the list, but access to elements is sequential (not random access like arrays)."
   ]
  },
  {
   "cell_type": "code",
   "execution_count": 3,
   "metadata": {},
   "outputs": [],
   "source": [
    "class Node:\n",
    "    def __init__(self, data):\n",
    "        self.data = data\n",
    "        self.next = None\n",
    "\n",
    "class SinglyLinkedList:\n",
    "    def __init__(self):\n",
    "        self.head = None\n",
    "\n",
    "    def insert_at_beginning(self, data):\n",
    "        new_node = Node(data)\n",
    "        new_node.next = self.head\n",
    "        self.head = new_node\n",
    "\n",
    "    def insert_at_end(self, data):\n",
    "        new_node = Node(data)\n",
    "        if not self.head:\n",
    "            self.head = new_node\n",
    "            return\n",
    "        last = self.head\n",
    "        while last.next:\n",
    "            last = last.next\n",
    "        last.next = new_node\n",
    "\n",
    "    def delete_node(self, key):\n",
    "        temp = self.head\n",
    "        if temp and temp.data == key:\n",
    "            self.head = temp.next\n",
    "            temp = None\n",
    "            return\n",
    "        prev = None\n",
    "        while temp and temp.data != key:\n",
    "            prev = temp\n",
    "            temp = temp.next\n",
    "        if temp is None:\n",
    "            return\n",
    "        prev.next = temp.next\n",
    "        temp = None\n",
    "\n",
    "    def traverse(self):\n",
    "        temp = self.head\n",
    "        while temp:\n",
    "            print(temp.data, end=\" -> \" if temp.next else \"\")\n",
    "            temp = temp.next\n",
    "        print()\n"
   ]
  },
  {
   "cell_type": "markdown",
   "metadata": {},
   "source": [
    "### Example Usage\n",
    "Let's see how to use our `SinglyLinkedList` class."
   ]
  },
  {
   "cell_type": "code",
   "execution_count": 4,
   "metadata": {},
   "outputs": [
    {
     "name": "stdout",
     "output_type": "stream",
     "text": [
      "5 -> 10 -> 15\n",
      "5 -> 15\n"
     ]
    }
   ],
   "source": [
    "ll = SinglyLinkedList()\n",
    "ll.insert_at_end(10)\n",
    "ll.insert_at_beginning(5)\n",
    "ll.insert_at_end(15)\n",
    "ll.traverse()  # Output: 5 -> 10 -> 15\n",
    "ll.delete_node(10)\n",
    "ll.traverse()  # Output: 5 -> 15\n"
   ]
  },
  {
   "cell_type": "markdown",
   "metadata": {},
   "source": [
    "## Doubly Linked List"
   ]
  },
  {
   "cell_type": "markdown",
   "metadata": {},
   "source": [
    "A **doubly linked list** allows traversal in both directions. Each node contains references to both the next and previous nodes."
   ]
  },
  {
   "cell_type": "code",
   "execution_count": 5,
   "metadata": {},
   "outputs": [],
   "source": [
    "class DNode:\n",
    "    def __init__(self, data):\n",
    "        self.data = data\n",
    "        self.next = None\n",
    "        self.prev = None\n",
    "\n",
    "class DoublyLinkedList:\n",
    "    def __init__(self):\n",
    "        self.head = None\n",
    "\n",
    "    def insert_at_end(self, data):\n",
    "        new_node = DNode(data)\n",
    "        if not self.head:\n",
    "            self.head = new_node\n",
    "            return\n",
    "        last = self.head\n",
    "        while last.next:\n",
    "            last = last.next\n",
    "        last.next = new_node\n",
    "        new_node.prev = last\n",
    "\n",
    "    def traverse_forward(self):\n",
    "        temp = self.head\n",
    "        while temp:\n",
    "            print(temp.data, end=\" <-> \" if temp.next else \"\")\n",
    "            temp = temp.next\n",
    "        print()\n",
    "\n",
    "    def traverse_backward(self):\n",
    "        temp = self.head\n",
    "        if not temp:\n",
    "            return\n",
    "        while temp.next:\n",
    "            temp = temp.next\n",
    "        while temp:\n",
    "            print(temp.data, end=\" <-> \" if temp.prev else \"\")\n",
    "            temp = temp.prev\n",
    "        print()\n"
   ]
  },
  {
   "cell_type": "markdown",
   "metadata": {},
   "source": [
    "### Example Usage\n",
    "Let's see how to use our `DoublyLinkedList` class."
   ]
  },
  {
   "cell_type": "code",
   "execution_count": 6,
   "metadata": {},
   "outputs": [
    {
     "name": "stdout",
     "output_type": "stream",
     "text": [
      "100 <-> 200 <-> 300\n",
      "300 <-> 200 <-> 100\n"
     ]
    }
   ],
   "source": [
    "dll = DoublyLinkedList()\n",
    "dll.insert_at_end(100)\n",
    "dll.insert_at_end(200)\n",
    "dll.insert_at_end(300)\n",
    "dll.traverse_forward()   # Output: 100 <-> 200 <-> 300\n",
    "dll.traverse_backward()  # Output: 300 <-> 200 <-> 100"
   ]
  },
  {
   "cell_type": "markdown",
   "metadata": {},
   "source": [
    "## Circular Linked List"
   ]
  },
  {
   "cell_type": "markdown",
   "metadata": {},
   "source": [
    "A **circular linked list** is a variation where the last node points back to the first node, forming a circle. This structure can be singly or doubly linked. It is useful for applications that require a circular traversal of data."
   ]
  },
  {
   "cell_type": "code",
   "execution_count": 8,
   "metadata": {},
   "outputs": [],
   "source": [
    "class CNode:\n",
    "    def __init__(self, data):\n",
    "        self.data = data\n",
    "        self.next = None\n",
    "\n",
    "class CircularLinkedList:\n",
    "    def __init__(self):\n",
    "        self.head = None\n",
    "\n",
    "    def insert_at_end(self, data):\n",
    "        new_node = CNode(data)\n",
    "        if not self.head:\n",
    "            self.head = new_node\n",
    "            new_node.next = self.head\n",
    "            return\n",
    "        temp = self.head\n",
    "        while temp.next != self.head:\n",
    "            temp = temp.next\n",
    "        temp.next = new_node\n",
    "        new_node.next = self.head\n",
    "\n",
    "    def traverse(self):\n",
    "        if not self.head:\n",
    "            return\n",
    "        temp = self.head\n",
    "        while True:\n",
    "            print(temp.data, end=\" -> \" if temp.next != self.head else \"\")\n",
    "            temp = temp.next\n",
    "            if temp == self.head:\n",
    "                break\n",
    "        print()"
   ]
  },
  {
   "cell_type": "markdown",
   "metadata": {},
   "source": [
    "### Example Usage\n",
    "Let's see how to use our `CircularLinkedList` class."
   ]
  },
  {
   "cell_type": "code",
   "execution_count": 9,
   "metadata": {},
   "outputs": [
    {
     "name": "stdout",
     "output_type": "stream",
     "text": [
      "1 -> 2 -> 3\n"
     ]
    }
   ],
   "source": [
    "cll = CircularLinkedList()\n",
    "cll.insert_at_end(1)\n",
    "cll.insert_at_end(2)\n",
    "cll.insert_at_end(3)\n",
    "cll.traverse()  # Output: 1 -> 2 -> 3"
   ]
  },
  {
   "cell_type": "markdown",
   "metadata": {},
   "source": [
    "## Famous Linked List Practice Problems"
   ]
  },
  {
   "cell_type": "markdown",
   "metadata": {},
   "source": [
    "### Easy"
   ]
  },
  {
   "cell_type": "markdown",
   "metadata": {},
   "source": [
    "- [Reverse Linked List (206)](https://leetcode.com/problems/reverse-linked-list/)\n",
    "- [Remove Linked List Elements (203)](https://leetcode.com/problems/remove-linked-list-elements/)\n",
    "- [Merge Two Sorted Lists (21)](https://leetcode.com/problems/merge-two-sorted-lists/)\n",
    "- [Palindrome Linked List (234)](https://leetcode.com/problems/palindrome-linked-list/)\n",
    "- [Linked List Cycle (141)](https://leetcode.com/problems/linked-list-cycle/)"
   ]
  },
  {
   "cell_type": "markdown",
   "metadata": {},
   "source": [
    "### Medium"
   ]
  },
  {
   "cell_type": "markdown",
   "metadata": {},
   "source": [
    "- [Add Two Numbers (2)](https://leetcode.com/problems/add-two-numbers/)\n",
    "- [Odd Even Linked List (328)](https://leetcode.com/problems/odd-even-linked-list/)\n",
    "- [Remove Nth Node From End of List (19)](https://leetcode.com/problems/remove-nth-node-from-end-of-list/)\n",
    "- [Reorder List (143)](https://leetcode.com/problems/reorder-list/)\n",
    "- [Intersection of Two Linked Lists (160)](https://leetcode.com/problems/intersection-of-two-linked-lists/)\n",
    "- [Sort List (148)](https://leetcode.com/problems/sort-list/)\n",
    "- [Rotate List (61)](https://leetcode.com/problems/rotate-list/)\n",
    "- [Swap Nodes in Pairs (24)](https://leetcode.com/problems/swap-nodes-in-pairs/)"
   ]
  },
  {
   "cell_type": "markdown",
   "metadata": {},
   "source": [
    "### Hard"
   ]
  },
  {
   "cell_type": "markdown",
   "metadata": {},
   "source": [
    "- [Merge k Sorted Lists (23)](https://leetcode.com/problems/merge-k-sorted-lists/)\n",
    "- [Reverse Nodes in k-Group (25)](https://leetcode.com/problems/reverse-nodes-in-k-group/)\n",
    "- [Copy List with Random Pointer (138)](https://leetcode.com/problems/copy-list-with-random-pointer/)\n",
    "- [LFU Cache (460)](https://leetcode.com/problems/lfu-cache/)\n",
    "- [Linked List in Binary Tree (1367)](https://leetcode.com/problems/linked-list-in-binary-tree/)"
   ]
  }
 ],
 "metadata": {
  "kernelspec": {
   "display_name": "base",
   "language": "python",
   "name": "python3"
  },
  "language_info": {
   "codemirror_mode": {
    "name": "ipython",
    "version": 3
   },
   "file_extension": ".py",
   "mimetype": "text/x-python",
   "name": "python",
   "nbconvert_exporter": "python",
   "pygments_lexer": "ipython3",
   "version": "3.12.9"
  }
 },
 "nbformat": 4,
 "nbformat_minor": 2
}
